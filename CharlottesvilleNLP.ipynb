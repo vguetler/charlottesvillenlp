{
 "cells": [
  {
   "cell_type": "markdown",
   "metadata": {},
   "source": [
    "#Charlottesville Unite the Right Rally Tweets: Sentiment Analysis/NLP"
   ]
  },
  {
   "cell_type": "code",
   "execution_count": 1,
   "metadata": {},
   "outputs": [],
   "source": [
    "#import packages\n",
    "\n",
    "#packages to store and manipulate data\n",
    "import pandas as pd\n",
    "import numpy as np\n",
    "\n",
    "#package for sentiment analysis/NLP & model building\n",
    "import nltk\n",
    "import sklearn\n",
    "\n",
    "# plotting packages\n",
    "import matplotlib.pyplot as plt\n",
    "import seaborn as sns\n",
    "\n",
    "#cleaning packages regex\n",
    "import re "
   ]
  },
  {
   "cell_type": "code",
   "execution_count": 5,
   "metadata": {},
   "outputs": [],
   "source": [
    "import os #change working directory"
   ]
  },
  {
   "cell_type": "code",
   "execution_count": 8,
   "metadata": {},
   "outputs": [],
   "source": [
    "import os\n",
    "cwd = os.getcwd() #returns current working directory"
   ]
  },
  {
   "cell_type": "code",
   "execution_count": 9,
   "metadata": {},
   "outputs": [
    {
     "data": {
      "text/plain": [
       "'/Users/vivianguetler/Desktop'"
      ]
     },
     "execution_count": 9,
     "metadata": {},
     "output_type": "execute_result"
    }
   ],
   "source": [
    "cwd"
   ]
  },
  {
   "cell_type": "code",
   "execution_count": 13,
   "metadata": {},
   "outputs": [],
   "source": [
    "#load data\n",
    "df = pd.read_csv(\"charlottealltweets3.csv\")"
   ]
  },
  {
   "cell_type": "code",
   "execution_count": 15,
   "metadata": {},
   "outputs": [
    {
     "data": {
      "text/plain": [
       "(65534, 25)"
      ]
     },
     "execution_count": 15,
     "metadata": {},
     "output_type": "execute_result"
    }
   ],
   "source": [
    "df.shape #get numbers of rows and columns of data frame"
   ]
  },
  {
   "cell_type": "code",
   "execution_count": 21,
   "metadata": {},
   "outputs": [
    {
     "data": {
      "text/html": [
       "<div>\n",
       "<style scoped>\n",
       "    .dataframe tbody tr th:only-of-type {\n",
       "        vertical-align: middle;\n",
       "    }\n",
       "\n",
       "    .dataframe tbody tr th {\n",
       "        vertical-align: top;\n",
       "    }\n",
       "\n",
       "    .dataframe thead th {\n",
       "        text-align: right;\n",
       "    }\n",
       "</style>\n",
       "<table border=\"1\" class=\"dataframe\">\n",
       "  <thead>\n",
       "    <tr style=\"text-align: right;\">\n",
       "      <th></th>\n",
       "      <th>Unnamed: 0</th>\n",
       "      <th>id</th>\n",
       "      <th>user_id</th>\n",
       "      <th>user_name</th>\n",
       "      <th>screen_name</th>\n",
       "      <th>user_statuses_count</th>\n",
       "      <th>user_favorites_count</th>\n",
       "      <th>friends_count</th>\n",
       "      <th>followers_count</th>\n",
       "      <th>user_location</th>\n",
       "      <th>...</th>\n",
       "      <th>created_at</th>\n",
       "      <th>is_retweet</th>\n",
       "      <th>retweeted_status_text</th>\n",
       "      <th>retweeted_status_id</th>\n",
       "      <th>quoted_status_text</th>\n",
       "      <th>quoted_status_id</th>\n",
       "      <th>in_reply_to_screen_name</th>\n",
       "      <th>in_reply_to_status_id</th>\n",
       "      <th>in_reply_to_user_id</th>\n",
       "      <th>hashtags</th>\n",
       "    </tr>\n",
       "  </thead>\n",
       "  <tbody>\n",
       "    <tr>\n",
       "      <td>0</td>\n",
       "      <td>1</td>\n",
       "      <td>8.976617e+17</td>\n",
       "      <td>2.912875e+09</td>\n",
       "      <td>KCR</td>\n",
       "      <td>kc_race</td>\n",
       "      <td>428</td>\n",
       "      <td>381</td>\n",
       "      <td>250</td>\n",
       "      <td>32</td>\n",
       "      <td>philly</td>\n",
       "      <td>...</td>\n",
       "      <td>2017-08-16 03:29:54</td>\n",
       "      <td>f</td>\n",
       "      <td>NaN</td>\n",
       "      <td>NaN</td>\n",
       "      <td>\"Charlottesville suspect was known as “the Naz...</td>\n",
       "      <td>8.975583e+17</td>\n",
       "      <td>NaN</td>\n",
       "      <td>NaN</td>\n",
       "      <td>NaN</td>\n",
       "      <td>NaN</td>\n",
       "    </tr>\n",
       "    <tr>\n",
       "      <td>1</td>\n",
       "      <td>2</td>\n",
       "      <td>8.976549e+17</td>\n",
       "      <td>4.840680e+09</td>\n",
       "      <td>Rory Hart</td>\n",
       "      <td>OpenHartnMinds</td>\n",
       "      <td>5544</td>\n",
       "      <td>3503</td>\n",
       "      <td>510</td>\n",
       "      <td>62</td>\n",
       "      <td>Connecticut, USA</td>\n",
       "      <td>...</td>\n",
       "      <td>2017-08-16 03:03:00</td>\n",
       "      <td>f</td>\n",
       "      <td>NaN</td>\n",
       "      <td>NaN</td>\n",
       "      <td>NaN</td>\n",
       "      <td>NaN</td>\n",
       "      <td>OpenHartnMinds</td>\n",
       "      <td>8.976548e+17</td>\n",
       "      <td>4.840680e+09</td>\n",
       "      <td>NaN</td>\n",
       "    </tr>\n",
       "    <tr>\n",
       "      <td>2</td>\n",
       "      <td>3</td>\n",
       "      <td>8.976597e+17</td>\n",
       "      <td>2.884196e+09</td>\n",
       "      <td>Lee Valentine Smith</td>\n",
       "      <td>leevsmith</td>\n",
       "      <td>9425</td>\n",
       "      <td>49365</td>\n",
       "      <td>5168</td>\n",
       "      <td>6726</td>\n",
       "      <td>NY, London, Paris, Munich.</td>\n",
       "      <td>...</td>\n",
       "      <td>2017-08-16 03:22:16</td>\n",
       "      <td>f</td>\n",
       "      <td>NaN</td>\n",
       "      <td>NaN</td>\n",
       "      <td>\"WATCH: WH Chief John Kelly reacts to Trump's ...</td>\n",
       "      <td>8.976497e+17</td>\n",
       "      <td>NaN</td>\n",
       "      <td>NaN</td>\n",
       "      <td>NaN</td>\n",
       "      <td>NaN</td>\n",
       "    </tr>\n",
       "    <tr>\n",
       "      <td>3</td>\n",
       "      <td>4</td>\n",
       "      <td>8.976605e+17</td>\n",
       "      <td>7.336185e+17</td>\n",
       "      <td>Karabo J.R Ramasodi</td>\n",
       "      <td>kjr_inkguy</td>\n",
       "      <td>3374</td>\n",
       "      <td>805</td>\n",
       "      <td>108</td>\n",
       "      <td>45</td>\n",
       "      <td>Pretoria, South Africa</td>\n",
       "      <td>...</td>\n",
       "      <td>2017-08-16 03:25:14</td>\n",
       "      <td>f</td>\n",
       "      <td>NaN</td>\n",
       "      <td>NaN</td>\n",
       "      <td>\"#NEW: #Charlottesville murder suspect can't a...</td>\n",
       "      <td>8.971070e+17</td>\n",
       "      <td>NaN</td>\n",
       "      <td>NaN</td>\n",
       "      <td>NaN</td>\n",
       "      <td>NaN</td>\n",
       "    </tr>\n",
       "    <tr>\n",
       "      <td>4</td>\n",
       "      <td>5</td>\n",
       "      <td>8.976423e+17</td>\n",
       "      <td>4.388882e+09</td>\n",
       "      <td>ProudTrumpwoman</td>\n",
       "      <td>pmswolfy</td>\n",
       "      <td>120434</td>\n",
       "      <td>61111</td>\n",
       "      <td>805</td>\n",
       "      <td>2263</td>\n",
       "      <td>Salem, VA</td>\n",
       "      <td>...</td>\n",
       "      <td>2017-08-16 02:12:59</td>\n",
       "      <td>f</td>\n",
       "      <td>NaN</td>\n",
       "      <td>NaN</td>\n",
       "      <td>NaN</td>\n",
       "      <td>NaN</td>\n",
       "      <td>NaN</td>\n",
       "      <td>NaN</td>\n",
       "      <td>NaN</td>\n",
       "      <td>NaN</td>\n",
       "    </tr>\n",
       "  </tbody>\n",
       "</table>\n",
       "<p>5 rows × 25 columns</p>\n",
       "</div>"
      ],
      "text/plain": [
       "   Unnamed: 0            id       user_id            user_name  \\\n",
       "0           1  8.976617e+17  2.912875e+09                  KCR   \n",
       "1           2  8.976549e+17  4.840680e+09            Rory Hart   \n",
       "2           3  8.976597e+17  2.884196e+09  Lee Valentine Smith   \n",
       "3           4  8.976605e+17  7.336185e+17  Karabo J.R Ramasodi   \n",
       "4           5  8.976423e+17  4.388882e+09      ProudTrumpwoman   \n",
       "\n",
       "      screen_name  user_statuses_count  user_favorites_count  friends_count  \\\n",
       "0         kc_race                  428                   381            250   \n",
       "1  OpenHartnMinds                 5544                  3503            510   \n",
       "2       leevsmith                 9425                 49365           5168   \n",
       "3      kjr_inkguy                 3374                   805            108   \n",
       "4        pmswolfy               120434                 61111            805   \n",
       "\n",
       "   followers_count               user_location  ...           created_at  \\\n",
       "0               32                      philly  ...  2017-08-16 03:29:54   \n",
       "1               62            Connecticut, USA  ...  2017-08-16 03:03:00   \n",
       "2             6726  NY, London, Paris, Munich.  ...  2017-08-16 03:22:16   \n",
       "3               45      Pretoria, South Africa  ...  2017-08-16 03:25:14   \n",
       "4             2263                   Salem, VA  ...  2017-08-16 02:12:59   \n",
       "\n",
       "  is_retweet retweeted_status_text retweeted_status_id  \\\n",
       "0          f                   NaN                 NaN   \n",
       "1          f                   NaN                 NaN   \n",
       "2          f                   NaN                 NaN   \n",
       "3          f                   NaN                 NaN   \n",
       "4          f                   NaN                 NaN   \n",
       "\n",
       "                                  quoted_status_text quoted_status_id  \\\n",
       "0  \"Charlottesville suspect was known as “the Naz...     8.975583e+17   \n",
       "1                                                NaN              NaN   \n",
       "2  \"WATCH: WH Chief John Kelly reacts to Trump's ...     8.976497e+17   \n",
       "3  \"#NEW: #Charlottesville murder suspect can't a...     8.971070e+17   \n",
       "4                                                NaN              NaN   \n",
       "\n",
       "  in_reply_to_screen_name  in_reply_to_status_id  in_reply_to_user_id hashtags  \n",
       "0                     NaN                    NaN                  NaN      NaN  \n",
       "1          OpenHartnMinds           8.976548e+17         4.840680e+09      NaN  \n",
       "2                     NaN                    NaN                  NaN      NaN  \n",
       "3                     NaN                    NaN                  NaN      NaN  \n",
       "4                     NaN                    NaN                  NaN      NaN  \n",
       "\n",
       "[5 rows x 25 columns]"
      ]
     },
     "execution_count": 21,
     "metadata": {},
     "output_type": "execute_result"
    }
   ],
   "source": [
    "df.head() #check the first few observations"
   ]
  },
  {
   "cell_type": "code",
   "execution_count": 22,
   "metadata": {},
   "outputs": [
    {
     "name": "stdout",
     "output_type": "stream",
     "text": [
      "<class 'pandas.core.frame.DataFrame'>\n",
      "RangeIndex: 65534 entries, 0 to 65533\n",
      "Data columns (total 25 columns):\n",
      "Unnamed: 0                       65534 non-null int64\n",
      "id                               65534 non-null float64\n",
      "user_id                          65534 non-null float64\n",
      "user_name                        65533 non-null object\n",
      "screen_name                      65534 non-null object\n",
      "user_statuses_count              65534 non-null int64\n",
      "user_favorites_count             65534 non-null int64\n",
      "friends_count                    65534 non-null int64\n",
      "followers_count                  65534 non-null int64\n",
      "user_location                    46897 non-null object\n",
      "user_description                 55439 non-null object\n",
      "user_time_zone                   41450 non-null object\n",
      "user_profile_text_color          65534 non-null object\n",
      "user_profile_background_color    65534 non-null object\n",
      "full_text                        65534 non-null object\n",
      "created_at                       65534 non-null object\n",
      "is_retweet                       65534 non-null object\n",
      "retweeted_status_text            0 non-null float64\n",
      "retweeted_status_id              0 non-null float64\n",
      "quoted_status_text               26318 non-null object\n",
      "quoted_status_id                 26318 non-null float64\n",
      "in_reply_to_screen_name          10599 non-null object\n",
      "in_reply_to_status_id            6962 non-null float64\n",
      "in_reply_to_user_id              10600 non-null float64\n",
      "hashtags                         16097 non-null object\n",
      "dtypes: float64(7), int64(5), object(13)\n",
      "memory usage: 12.5+ MB\n"
     ]
    }
   ],
   "source": [
    "df.info()"
   ]
  },
  {
   "cell_type": "code",
   "execution_count": 63,
   "metadata": {},
   "outputs": [],
   "source": [
    "#Basic descriptive stats\n",
    "\n",
    "#most influential user by followers count, who tweeted the most?\n",
    "\n",
    "inf = df[['user_name', 'followers_count']]"
   ]
  },
  {
   "cell_type": "code",
   "execution_count": 64,
   "metadata": {},
   "outputs": [],
   "source": [
    "inf = inf.sort_values('followers_count', ascending=False)"
   ]
  },
  {
   "cell_type": "code",
   "execution_count": 65,
   "metadata": {},
   "outputs": [
    {
     "data": {
      "text/html": [
       "<div>\n",
       "<style scoped>\n",
       "    .dataframe tbody tr th:only-of-type {\n",
       "        vertical-align: middle;\n",
       "    }\n",
       "\n",
       "    .dataframe tbody tr th {\n",
       "        vertical-align: top;\n",
       "    }\n",
       "\n",
       "    .dataframe thead th {\n",
       "        text-align: right;\n",
       "    }\n",
       "</style>\n",
       "<table border=\"1\" class=\"dataframe\">\n",
       "  <thead>\n",
       "    <tr style=\"text-align: right;\">\n",
       "      <th></th>\n",
       "      <th>followers_count</th>\n",
       "    </tr>\n",
       "    <tr>\n",
       "      <th>user_name</th>\n",
       "      <th></th>\n",
       "    </tr>\n",
       "  </thead>\n",
       "  <tbody>\n",
       "    <tr>\n",
       "      <td>CNN</td>\n",
       "      <td>37079756</td>\n",
       "    </tr>\n",
       "    <tr>\n",
       "      <td>Reuters Top News</td>\n",
       "      <td>18494616</td>\n",
       "    </tr>\n",
       "    <tr>\n",
       "      <td>Fox News</td>\n",
       "      <td>15636365</td>\n",
       "    </tr>\n",
       "    <tr>\n",
       "      <td>TIME</td>\n",
       "      <td>14524623</td>\n",
       "    </tr>\n",
       "    <tr>\n",
       "      <td>ABC News</td>\n",
       "      <td>11513249</td>\n",
       "    </tr>\n",
       "    <tr>\n",
       "      <td>Washington Post</td>\n",
       "      <td>10914476</td>\n",
       "    </tr>\n",
       "    <tr>\n",
       "      <td>HuffPost</td>\n",
       "      <td>10606070</td>\n",
       "    </tr>\n",
       "    <tr>\n",
       "      <td>Mashable</td>\n",
       "      <td>9205958</td>\n",
       "    </tr>\n",
       "    <tr>\n",
       "      <td>BBC News (UK)</td>\n",
       "      <td>8628492</td>\n",
       "    </tr>\n",
       "    <tr>\n",
       "      <td>People</td>\n",
       "      <td>7817745</td>\n",
       "    </tr>\n",
       "  </tbody>\n",
       "</table>\n",
       "</div>"
      ],
      "text/plain": [
       "                  followers_count\n",
       "user_name                        \n",
       "CNN                      37079756\n",
       "Reuters Top News         18494616\n",
       "Fox News                 15636365\n",
       "TIME                     14524623\n",
       "ABC News                 11513249\n",
       "Washington Post          10914476\n",
       "HuffPost                 10606070\n",
       "Mashable                  9205958\n",
       "BBC News (UK)             8628492\n",
       "People                    7817745"
      ]
     },
     "execution_count": 65,
     "metadata": {},
     "output_type": "execute_result"
    }
   ],
   "source": [
    "inf.groupby('user_name').first().sort_values(by='followers_count', ascending=False)[:10]\n",
    "\n",
    "#top users are the media!"
   ]
  },
  {
   "cell_type": "code",
   "execution_count": 81,
   "metadata": {},
   "outputs": [
    {
     "data": {
      "text/html": [
       "<div>\n",
       "<style scoped>\n",
       "    .dataframe tbody tr th:only-of-type {\n",
       "        vertical-align: middle;\n",
       "    }\n",
       "\n",
       "    .dataframe tbody tr th {\n",
       "        vertical-align: top;\n",
       "    }\n",
       "\n",
       "    .dataframe thead th {\n",
       "        text-align: right;\n",
       "    }\n",
       "</style>\n",
       "<table border=\"1\" class=\"dataframe\">\n",
       "  <thead>\n",
       "    <tr style=\"text-align: right;\">\n",
       "      <th></th>\n",
       "      <th>full_text</th>\n",
       "      <th>counts</th>\n",
       "    </tr>\n",
       "  </thead>\n",
       "  <tbody>\n",
       "    <tr>\n",
       "      <td>21234</td>\n",
       "      <td>@realDonaldTrump https://t.co/UUItukXnsJ</td>\n",
       "      <td>17</td>\n",
       "    </tr>\n",
       "    <tr>\n",
       "      <td>28755</td>\n",
       "      <td>Dear @TerryMcAuliffe,\\n\\nWhy has Virginia not ...</td>\n",
       "      <td>9</td>\n",
       "    </tr>\n",
       "    <tr>\n",
       "      <td>1952</td>\n",
       "      <td>\"@NolteNC The left wing fascist in Charlottesv...</td>\n",
       "      <td>6</td>\n",
       "    </tr>\n",
       "    <tr>\n",
       "      <td>20282</td>\n",
       "      <td>@mitchellvii Seth Meyers: Trump Has Always Bee...</td>\n",
       "      <td>6</td>\n",
       "    </tr>\n",
       "    <tr>\n",
       "      <td>18981</td>\n",
       "      <td>@WhiteHouse https://t.co/UUItukXnsJ</td>\n",
       "      <td>6</td>\n",
       "    </tr>\n",
       "    <tr>\n",
       "      <td>20283</td>\n",
       "      <td>@mitchellvii Trump Gives White Supremacists an...</td>\n",
       "      <td>5</td>\n",
       "    </tr>\n",
       "    <tr>\n",
       "      <td>31088</td>\n",
       "      <td>Facebook borra perfiles de supremacistas tras ...</td>\n",
       "      <td>5</td>\n",
       "    </tr>\n",
       "    <tr>\n",
       "      <td>18014</td>\n",
       "      <td>@RealJamesWoods https://t.co/UUItukXnsJ</td>\n",
       "      <td>5</td>\n",
       "    </tr>\n",
       "    <tr>\n",
       "      <td>20280</td>\n",
       "      <td>@mitchellvii Local WWII veteran condemns use o...</td>\n",
       "      <td>5</td>\n",
       "    </tr>\n",
       "    <tr>\n",
       "      <td>20281</td>\n",
       "      <td>@mitchellvii Nazi slogans and violence at a ri...</td>\n",
       "      <td>5</td>\n",
       "    </tr>\n",
       "  </tbody>\n",
       "</table>\n",
       "</div>"
      ],
      "text/plain": [
       "                                               full_text  counts\n",
       "21234           @realDonaldTrump https://t.co/UUItukXnsJ      17\n",
       "28755  Dear @TerryMcAuliffe,\\n\\nWhy has Virginia not ...       9\n",
       "1952   \"@NolteNC The left wing fascist in Charlottesv...       6\n",
       "20282  @mitchellvii Seth Meyers: Trump Has Always Bee...       6\n",
       "18981                @WhiteHouse https://t.co/UUItukXnsJ       6\n",
       "20283  @mitchellvii Trump Gives White Supremacists an...       5\n",
       "31088  Facebook borra perfiles de supremacistas tras ...       5\n",
       "18014            @RealJamesWoods https://t.co/UUItukXnsJ       5\n",
       "20280  @mitchellvii Local WWII veteran condemns use o...       5\n",
       "20281  @mitchellvii Nazi slogans and violence at a ri...       5"
      ]
     },
     "execution_count": 81,
     "metadata": {},
     "output_type": "execute_result"
    }
   ],
   "source": [
    "# 10 most repeated (re)tweets\n",
    "df.groupby(['full_text']).size().reset_index(name='counts')\\\n",
    "  .sort_values('counts', ascending=False).head(10)"
   ]
  },
  {
   "cell_type": "code",
   "execution_count": 23,
   "metadata": {},
   "outputs": [],
   "source": [
    "tweets_df = pd.DataFrame(df['full_text']) #create a subset of text column since only interested in sentiments"
   ]
  },
  {
   "cell_type": "code",
   "execution_count": 25,
   "metadata": {},
   "outputs": [
    {
     "data": {
      "text/html": [
       "<div>\n",
       "<style scoped>\n",
       "    .dataframe tbody tr th:only-of-type {\n",
       "        vertical-align: middle;\n",
       "    }\n",
       "\n",
       "    .dataframe tbody tr th {\n",
       "        vertical-align: top;\n",
       "    }\n",
       "\n",
       "    .dataframe thead th {\n",
       "        text-align: right;\n",
       "    }\n",
       "</style>\n",
       "<table border=\"1\" class=\"dataframe\">\n",
       "  <thead>\n",
       "    <tr style=\"text-align: right;\">\n",
       "      <th></th>\n",
       "      <th>full_text</th>\n",
       "    </tr>\n",
       "  </thead>\n",
       "  <tbody>\n",
       "    <tr>\n",
       "      <td>0</td>\n",
       "      <td>It's almost as if people are exactly who they ...</td>\n",
       "    </tr>\n",
       "    <tr>\n",
       "      <td>1</td>\n",
       "      <td>@Slate Conservative media: Yes, Trump's respon...</td>\n",
       "    </tr>\n",
       "    <tr>\n",
       "      <td>2</td>\n",
       "      <td>👀 https://t.co/qeyzYeblwu</td>\n",
       "    </tr>\n",
       "    <tr>\n",
       "      <td>3</td>\n",
       "      <td>😂 😂 😂 Karma really isn't wasting time.. https:...</td>\n",
       "    </tr>\n",
       "    <tr>\n",
       "      <td>4</td>\n",
       "      <td>After Charlottesville, Black Lives Matter Issu...</td>\n",
       "    </tr>\n",
       "  </tbody>\n",
       "</table>\n",
       "</div>"
      ],
      "text/plain": [
       "                                           full_text\n",
       "0  It's almost as if people are exactly who they ...\n",
       "1  @Slate Conservative media: Yes, Trump's respon...\n",
       "2                          👀 https://t.co/qeyzYeblwu\n",
       "3  😂 😂 😂 Karma really isn't wasting time.. https:...\n",
       "4  After Charlottesville, Black Lives Matter Issu..."
      ]
     },
     "execution_count": 25,
     "metadata": {},
     "output_type": "execute_result"
    }
   ],
   "source": [
    "tweets_df.head() #check the first obs"
   ]
  },
  {
   "cell_type": "code",
   "execution_count": 26,
   "metadata": {},
   "outputs": [
    {
     "data": {
      "text/plain": [
       "'Charlottesville:\\nThe alt-right were racists and bigots attacking the so called alt-left who hate racists and bigots, who were defending.'"
      ]
     },
     "execution_count": 26,
     "metadata": {},
     "output_type": "execute_result"
    }
   ],
   "source": [
    "tweets_df.iloc[350,0] #indexing row 350"
   ]
  },
  {
   "cell_type": "code",
   "execution_count": 27,
   "metadata": {},
   "outputs": [
    {
     "data": {
      "text/plain": [
       "'Barack Obama Sets Twitter Record With Tweet in Wake of Charlottesville Violence https://t.co/RuntEyk0Wx https://t.co/ioPls9tXme'"
      ]
     },
     "execution_count": 27,
     "metadata": {},
     "output_type": "execute_result"
    }
   ],
   "source": [
    "tweets_df.iloc[200,0] #indexing row 200"
   ]
  },
  {
   "cell_type": "code",
   "execution_count": 41,
   "metadata": {},
   "outputs": [
    {
     "name": "stderr",
     "output_type": "stream",
     "text": [
      "[nltk_data] Downloading package vader_lexicon to\n",
      "[nltk_data]     /Users/vivianguetler/nltk_data...\n",
      "[nltk_data]   Package vader_lexicon is already up-to-date!\n"
     ]
    },
    {
     "data": {
      "text/plain": [
       "{'neg': 0.461, 'neu': 0.539, 'pos': 0.0, 'compound': -0.9287}"
      ]
     },
     "execution_count": 41,
     "metadata": {},
     "output_type": "execute_result"
    }
   ],
   "source": [
    "#import sentiment library - VADER\n",
    "nltk.download('vader_lexicon')\n",
    "from nltk.sentiment.vader import SentimentIntensityAnalyzer\n",
    "sid = SentimentIntensityAnalyzer()\n",
    "sid.polarity_scores(tweets_df.iloc[350,0])"
   ]
  },
  {
   "cell_type": "code",
   "execution_count": 42,
   "metadata": {},
   "outputs": [],
   "source": [
    "#apply the sentiment to the rows, add a column with sentiments\n",
    "tweets_df['sentiment_dict'] = tweets_df['full_text'].apply(sid.polarity_scores)"
   ]
  },
  {
   "cell_type": "code",
   "execution_count": 43,
   "metadata": {},
   "outputs": [
    {
     "data": {
      "text/html": [
       "<div>\n",
       "<style scoped>\n",
       "    .dataframe tbody tr th:only-of-type {\n",
       "        vertical-align: middle;\n",
       "    }\n",
       "\n",
       "    .dataframe tbody tr th {\n",
       "        vertical-align: top;\n",
       "    }\n",
       "\n",
       "    .dataframe thead th {\n",
       "        text-align: right;\n",
       "    }\n",
       "</style>\n",
       "<table border=\"1\" class=\"dataframe\">\n",
       "  <thead>\n",
       "    <tr style=\"text-align: right;\">\n",
       "      <th></th>\n",
       "      <th>full_text</th>\n",
       "      <th>sentiment_dict</th>\n",
       "    </tr>\n",
       "  </thead>\n",
       "  <tbody>\n",
       "    <tr>\n",
       "      <td>0</td>\n",
       "      <td>It's almost as if people are exactly who they ...</td>\n",
       "      <td>{'neg': 0.0, 'neu': 1.0, 'pos': 0.0, 'compound...</td>\n",
       "    </tr>\n",
       "    <tr>\n",
       "      <td>1</td>\n",
       "      <td>@Slate Conservative media: Yes, Trump's respon...</td>\n",
       "      <td>{'neg': 0.118, 'neu': 0.785, 'pos': 0.097, 'co...</td>\n",
       "    </tr>\n",
       "    <tr>\n",
       "      <td>2</td>\n",
       "      <td>👀 https://t.co/qeyzYeblwu</td>\n",
       "      <td>{'neg': 0.0, 'neu': 1.0, 'pos': 0.0, 'compound...</td>\n",
       "    </tr>\n",
       "    <tr>\n",
       "      <td>3</td>\n",
       "      <td>😂 😂 😂 Karma really isn't wasting time.. https:...</td>\n",
       "      <td>{'neg': 0.0, 'neu': 0.663, 'pos': 0.337, 'comp...</td>\n",
       "    </tr>\n",
       "    <tr>\n",
       "      <td>4</td>\n",
       "      <td>After Charlottesville, Black Lives Matter Issu...</td>\n",
       "      <td>{'neg': 0.156, 'neu': 0.729, 'pos': 0.115, 'co...</td>\n",
       "    </tr>\n",
       "  </tbody>\n",
       "</table>\n",
       "</div>"
      ],
      "text/plain": [
       "                                           full_text  \\\n",
       "0  It's almost as if people are exactly who they ...   \n",
       "1  @Slate Conservative media: Yes, Trump's respon...   \n",
       "2                          👀 https://t.co/qeyzYeblwu   \n",
       "3  😂 😂 😂 Karma really isn't wasting time.. https:...   \n",
       "4  After Charlottesville, Black Lives Matter Issu...   \n",
       "\n",
       "                                      sentiment_dict  \n",
       "0  {'neg': 0.0, 'neu': 1.0, 'pos': 0.0, 'compound...  \n",
       "1  {'neg': 0.118, 'neu': 0.785, 'pos': 0.097, 'co...  \n",
       "2  {'neg': 0.0, 'neu': 1.0, 'pos': 0.0, 'compound...  \n",
       "3  {'neg': 0.0, 'neu': 0.663, 'pos': 0.337, 'comp...  \n",
       "4  {'neg': 0.156, 'neu': 0.729, 'pos': 0.115, 'co...  "
      ]
     },
     "execution_count": 43,
     "metadata": {},
     "output_type": "execute_result"
    }
   ],
   "source": [
    "tweets_df.head()"
   ]
  },
  {
   "cell_type": "code",
   "execution_count": 44,
   "metadata": {},
   "outputs": [
    {
     "data": {
      "text/plain": [
       "{'neg': 0.118, 'neu': 0.785, 'pos': 0.097, 'compound': -0.1027}"
      ]
     },
     "execution_count": 44,
     "metadata": {},
     "output_type": "execute_result"
    }
   ],
   "source": [
    "tweets_df['sentiment_dict'][1] #check the polarity scores"
   ]
  },
  {
   "cell_type": "code",
   "execution_count": 45,
   "metadata": {},
   "outputs": [],
   "source": [
    "#write a function to assign sentiments positive, negative and neutral to the polarity scores \n",
    "def assign_sentiment(x):\n",
    "    if x['compound'] >= 0.05:\n",
    "        return \"positive\"\n",
    "    elif x['compound'] < 0.05 and x['compound'] > -0.05:\n",
    "        return \"neutral\"\n",
    "    else:\n",
    "        return \"negative\""
   ]
  },
  {
   "cell_type": "code",
   "execution_count": 46,
   "metadata": {},
   "outputs": [],
   "source": [
    "#assign the sentiments, add column \n",
    "tweets_df['sentiment'] = tweets_df['sentiment_dict'].apply(assign_sentiment)"
   ]
  },
  {
   "cell_type": "code",
   "execution_count": 47,
   "metadata": {},
   "outputs": [
    {
     "data": {
      "text/html": [
       "<div>\n",
       "<style scoped>\n",
       "    .dataframe tbody tr th:only-of-type {\n",
       "        vertical-align: middle;\n",
       "    }\n",
       "\n",
       "    .dataframe tbody tr th {\n",
       "        vertical-align: top;\n",
       "    }\n",
       "\n",
       "    .dataframe thead th {\n",
       "        text-align: right;\n",
       "    }\n",
       "</style>\n",
       "<table border=\"1\" class=\"dataframe\">\n",
       "  <thead>\n",
       "    <tr style=\"text-align: right;\">\n",
       "      <th></th>\n",
       "      <th>full_text</th>\n",
       "      <th>sentiment_dict</th>\n",
       "      <th>sentiment</th>\n",
       "    </tr>\n",
       "  </thead>\n",
       "  <tbody>\n",
       "    <tr>\n",
       "      <td>0</td>\n",
       "      <td>It's almost as if people are exactly who they ...</td>\n",
       "      <td>{'neg': 0.0, 'neu': 1.0, 'pos': 0.0, 'compound...</td>\n",
       "      <td>neutral</td>\n",
       "    </tr>\n",
       "    <tr>\n",
       "      <td>1</td>\n",
       "      <td>@Slate Conservative media: Yes, Trump's respon...</td>\n",
       "      <td>{'neg': 0.118, 'neu': 0.785, 'pos': 0.097, 'co...</td>\n",
       "      <td>negative</td>\n",
       "    </tr>\n",
       "    <tr>\n",
       "      <td>2</td>\n",
       "      <td>👀 https://t.co/qeyzYeblwu</td>\n",
       "      <td>{'neg': 0.0, 'neu': 1.0, 'pos': 0.0, 'compound...</td>\n",
       "      <td>neutral</td>\n",
       "    </tr>\n",
       "    <tr>\n",
       "      <td>3</td>\n",
       "      <td>😂 😂 😂 Karma really isn't wasting time.. https:...</td>\n",
       "      <td>{'neg': 0.0, 'neu': 0.663, 'pos': 0.337, 'comp...</td>\n",
       "      <td>positive</td>\n",
       "    </tr>\n",
       "    <tr>\n",
       "      <td>4</td>\n",
       "      <td>After Charlottesville, Black Lives Matter Issu...</td>\n",
       "      <td>{'neg': 0.156, 'neu': 0.729, 'pos': 0.115, 'co...</td>\n",
       "      <td>negative</td>\n",
       "    </tr>\n",
       "    <tr>\n",
       "      <td>...</td>\n",
       "      <td>...</td>\n",
       "      <td>...</td>\n",
       "      <td>...</td>\n",
       "    </tr>\n",
       "    <tr>\n",
       "      <td>65529</td>\n",
       "      <td>This is not leadership. Where are the LAGOP le...</td>\n",
       "      <td>{'neg': 0.0, 'neu': 0.769, 'pos': 0.231, 'comp...</td>\n",
       "      <td>positive</td>\n",
       "    </tr>\n",
       "    <tr>\n",
       "      <td>65530</td>\n",
       "      <td>Little bitch https://t.co/S8VhPv577Q</td>\n",
       "      <td>{'neg': 0.637, 'neu': 0.363, 'pos': 0.0, 'comp...</td>\n",
       "      <td>negative</td>\n",
       "    </tr>\n",
       "    <tr>\n",
       "      <td>65531</td>\n",
       "      <td>\"If he comes, I'll be in Phoenix...protesting ...</td>\n",
       "      <td>{'neg': 0.0, 'neu': 1.0, 'pos': 0.0, 'compound...</td>\n",
       "      <td>neutral</td>\n",
       "    </tr>\n",
       "    <tr>\n",
       "      <td>65532</td>\n",
       "      <td>awesome! 💙 💓 https://t.co/XwTVFNisND</td>\n",
       "      <td>{'neg': 0.0, 'neu': 0.185, 'pos': 0.815, 'comp...</td>\n",
       "      <td>positive</td>\n",
       "    </tr>\n",
       "    <tr>\n",
       "      <td>65533</td>\n",
       "      <td>Interesting thread. Learned some things about ...</td>\n",
       "      <td>{'neg': 0.0, 'neu': 0.787, 'pos': 0.213, 'comp...</td>\n",
       "      <td>positive</td>\n",
       "    </tr>\n",
       "  </tbody>\n",
       "</table>\n",
       "<p>65534 rows × 3 columns</p>\n",
       "</div>"
      ],
      "text/plain": [
       "                                               full_text  \\\n",
       "0      It's almost as if people are exactly who they ...   \n",
       "1      @Slate Conservative media: Yes, Trump's respon...   \n",
       "2                              👀 https://t.co/qeyzYeblwu   \n",
       "3      😂 😂 😂 Karma really isn't wasting time.. https:...   \n",
       "4      After Charlottesville, Black Lives Matter Issu...   \n",
       "...                                                  ...   \n",
       "65529  This is not leadership. Where are the LAGOP le...   \n",
       "65530               Little bitch https://t.co/S8VhPv577Q   \n",
       "65531  \"If he comes, I'll be in Phoenix...protesting ...   \n",
       "65532               awesome! 💙 💓 https://t.co/XwTVFNisND   \n",
       "65533  Interesting thread. Learned some things about ...   \n",
       "\n",
       "                                          sentiment_dict sentiment  \n",
       "0      {'neg': 0.0, 'neu': 1.0, 'pos': 0.0, 'compound...   neutral  \n",
       "1      {'neg': 0.118, 'neu': 0.785, 'pos': 0.097, 'co...  negative  \n",
       "2      {'neg': 0.0, 'neu': 1.0, 'pos': 0.0, 'compound...   neutral  \n",
       "3      {'neg': 0.0, 'neu': 0.663, 'pos': 0.337, 'comp...  positive  \n",
       "4      {'neg': 0.156, 'neu': 0.729, 'pos': 0.115, 'co...  negative  \n",
       "...                                                  ...       ...  \n",
       "65529  {'neg': 0.0, 'neu': 0.769, 'pos': 0.231, 'comp...  positive  \n",
       "65530  {'neg': 0.637, 'neu': 0.363, 'pos': 0.0, 'comp...  negative  \n",
       "65531  {'neg': 0.0, 'neu': 1.0, 'pos': 0.0, 'compound...   neutral  \n",
       "65532  {'neg': 0.0, 'neu': 0.185, 'pos': 0.815, 'comp...  positive  \n",
       "65533  {'neg': 0.0, 'neu': 0.787, 'pos': 0.213, 'comp...  positive  \n",
       "\n",
       "[65534 rows x 3 columns]"
      ]
     },
     "execution_count": 47,
     "metadata": {},
     "output_type": "execute_result"
    }
   ],
   "source": [
    "tweets_df"
   ]
  },
  {
   "cell_type": "code",
   "execution_count": 48,
   "metadata": {},
   "outputs": [],
   "source": [
    "#plot the VADER sentiments\n",
    "import seaborn as sns"
   ]
  },
  {
   "cell_type": "code",
   "execution_count": 126,
   "metadata": {},
   "outputs": [
    {
     "data": {
      "text/plain": [
       "Text(0.5, 1.0, '#Charlottesville Sentiments')"
      ]
     },
     "execution_count": 126,
     "metadata": {},
     "output_type": "execute_result"
    },
    {
     "data": {
      "image/png": "[encoded data removed]",
      "text/plain": [
       "<Figure size 432x288 with 1 Axes>"
      ]
     },
     "metadata": {
      "needs_background": "light"
     },
     "output_type": "display_data"
    }
   ],
   "source": [
    "sns.countplot(data = tweets_df, x = \"sentiment\", palette=\"Set2\").set_title(\"#Charlottesville Sentiments\") \n",
    "\n",
    "#overall, the sentiment is negative"
   ]
  },
  {
   "cell_type": "code",
   "execution_count": 55,
   "metadata": {},
   "outputs": [],
   "source": [
    "#tokenize and clean the text\n",
    "import string\n",
    "import re\n",
    "import matplotlib.pyplot as plt\n",
    "from collections import Counter"
   ]
  },
  {
   "cell_type": "code",
   "execution_count": 60,
   "metadata": {},
   "outputs": [],
   "source": [
    "#text column preprocessing by removing punctuations, stopwords, spaces, urls, etc\n",
    "\n",
    "top_N = 10\n",
    "stopwords = nltk.corpus.stopwords.words('english')\n",
    "re_stopwords = r'\\b(?:{})\\b'.format('|'.join(stopwords))\n",
    "words = (tweets_df['full_text']\n",
    "           .str.lower()\n",
    "           .replace([r'\\|', re_stopwords, r\"(&amp)|,|;|\\\"|\\.|\\?|’|!|'|:|-|\\\\|/|https|@\"], [' ', ' ', ' '], regex=True)\n",
    "           .str.cat(sep=' ')\n",
    "           .split()\n",
    ")\n",
    "\n",
    "tweets_c = pd.DataFrame(Counter(words).most_common(top_N),\n",
    "                    columns=['Word', 'Frequency']).set_index('Word')\n",
    "\n",
    "tweets_c = tweets_c.iloc[1:]"
   ]
  },
  {
   "cell_type": "code",
   "execution_count": 61,
   "metadata": {},
   "outputs": [
    {
     "data": {
      "image/png": "[encoded data removed]",
      "text/plain": [
       "<Figure size 2160x1440 with 1 Axes>"
      ]
     },
     "metadata": {},
     "output_type": "display_data"
    }
   ],
   "source": [
    "#plot the frequent words\n",
    "sns.set_style(\"darkgrid\")\n",
    "plt.rcParams[\"figure.figsize\"] = [30.0, 20.0]\n",
    "ax = sns.barplot(y=tweets_c.index, x='Frequency', data=tweets_c)\n",
    "ax.set_xlabel(\"Frequency\",fontsize=20)\n",
    "ax.set_ylabel(\"Words\",fontsize=20)\n",
    "ax.tick_params(labelsize=30)\n",
    "\n",
    "#looks like charlottesville, trump, white, violence are the most frequent words"
   ]
  },
  {
   "cell_type": "code",
   "execution_count": null,
   "metadata": {},
   "outputs": [],
   "source": [
    "#Topic modeling using LDA Analysis \n",
    "#Topic modelling is an unsupervised machine learning algorithm for discovering topics in a collection of documents."
   ]
  },
  {
   "cell_type": "code",
   "execution_count": 73,
   "metadata": {},
   "outputs": [
    {
     "data": {
      "image/png": "[encoded data removed]",
      "text/plain": [
       "<Figure size 1080x667.491 with 1 Axes>"
      ]
     },
     "metadata": {
      "needs_background": "light"
     },
     "output_type": "display_data"
    }
   ],
   "source": [
    "# Load the library with the CountVectorizer method\n",
    "#codes source: https://towardsdatascience.com/end-to-end-topic-modeling-in-python-latent-dirichlet-allocation-lda-35ce4ed6b3e0\n",
    "#Not my codes, learning from it.\n",
    "\n",
    "from sklearn.feature_extraction.text import CountVectorizer\n",
    "import numpy as np\n",
    "import matplotlib.pyplot as plt\n",
    "import seaborn as sns\n",
    "sns.set_style('whitegrid')\n",
    "\n",
    "# function\n",
    "def plot_10_most_common_words(count_data, count_vectorizer):\n",
    "    import matplotlib.pyplot as plt\n",
    "    words = count_vectorizer.get_feature_names()\n",
    "    total_counts = np.zeros(len(words))\n",
    "    for t in count_data:\n",
    "        total_counts+=t.toarray()[0]\n",
    "    \n",
    "    count_dict = (zip(words, total_counts))\n",
    "    count_dict = sorted(count_dict, key=lambda x:x[1], reverse=True)[0:10]\n",
    "    words = [w[0] for w in count_dict]\n",
    "    counts = [w[1] for w in count_dict]\n",
    "    x_pos = np.arange(len(words)) \n",
    "    \n",
    "    plt.figure(2, figsize=(15, 15/1.6180))\n",
    "    plt.subplot(title='10 most common words')\n",
    "    sns.set_context(\"notebook\", font_scale=1.25, rc={\"lines.linewidth\": 2.5})\n",
    "    sns.barplot(x_pos, counts, palette='husl')\n",
    "    plt.xticks(x_pos, words, rotation=90) \n",
    "    plt.xlabel('words')\n",
    "    plt.ylabel('counts')\n",
    "    plt.show()\n",
    "    \n",
    "# Initialise the count vectorizer with the English stop words\n",
    "count_vectorizer = CountVectorizer(stop_words='english')\n",
    "\n",
    "# Fit and transform the processed titles\n",
    "count_data = count_vectorizer.fit_transform(tweets_df['full_text'])\n",
    "\n",
    "# Visualise the 10 most common words\n",
    "plot_10_most_common_words(count_data, count_vectorizer)"
   ]
  },
  {
   "cell_type": "code",
   "execution_count": null,
   "metadata": {},
   "outputs": [],
   "source": [
    "#The above text still needs to be cleaned, https is part of url, amp. Similar results to the nltk corpus above"
   ]
  },
  {
   "cell_type": "code",
   "execution_count": 122,
   "metadata": {},
   "outputs": [
    {
     "name": "stdout",
     "output_type": "stream",
     "text": [
      "Topics found via LDA:\n",
      "\n",
      "Topic #0:\n",
      "https charlottesville en la trump que el le lives matter\n",
      "\n",
      "Topic #1:\n",
      "https white trump supremacists charlottesville realdonaldtrump people supremacist gives unequivocal\n",
      "\n",
      "Topic #2:\n",
      "https charlottesville white trump truth james amp lebron people alt\n",
      "\n",
      "Topic #3:\n",
      "https realdonaldtrump man kelly trump fuck america good did job\n",
      "\n",
      "Topic #4:\n",
      "https charlottesville white trump nazi police people hate rally attack\n",
      "\n",
      "Topic #5:\n",
      "charlottesville https trump news vice amp press conference donald race\n",
      "\n",
      "Topic #6:\n",
      "https don like wow charlottesville fucking say shit realdonaldtrump impeachtrump\n",
      "\n",
      "Topic #7:\n",
      "https charlottesville trump violence obama sides tweet response liked blame\n",
      "\n",
      "Topic #8:\n",
      "https charlottesville trump people nazis news racist president like said\n",
      "\n",
      "Topic #9:\n",
      "https charlottesville right trump alt heather left victim media sides\n"
     ]
    }
   ],
   "source": [
    "# Load the LDA model from sk-learn\n",
    "from sklearn.decomposition import LatentDirichletAllocation as LDA\n",
    " \n",
    "# function\n",
    "def print_topics(model, count_vectorizer, n_top_words):\n",
    "    words = count_vectorizer.get_feature_names()\n",
    "    for topic_idx, topic in enumerate(model.components_):\n",
    "        print(\"\\nTopic #%d:\" % topic_idx)\n",
    "        print(\" \".join([words[i]\n",
    "                        for i in topic.argsort()[:-n_top_words - 1:-1]]))\n",
    "        \n",
    "# Tweak the two parameters below\n",
    "number_topics = 10\n",
    "number_words = 10\n",
    "\n",
    "# Create and fit the LDA model\n",
    "lda = LDA(n_components=number_topics, n_jobs=-1)\n",
    "lda.fit(count_data)\n",
    "\n",
    "# Print the topics found by the LDA model\n",
    "print(\"Topics found via LDA:\")\n",
    "print_topics(lda, count_vectorizer, number_words)\n",
    "\n",
    "#seem like Trump is in every of the 10 topics, could remove the word Charlottesville"
   ]
  },
  {
   "cell_type": "code",
   "execution_count": 89,
   "metadata": {},
   "outputs": [],
   "source": [
    "#Another version for processing text data for machine learning using scikit learn countvectorizer. \n",
    "#convert text to word count vectors with CountVectorizer.\n",
    "\n",
    "#import countvectorizer\n",
    "from sklearn.feature_extraction.text import CountVectorizer"
   ]
  },
  {
   "cell_type": "code",
   "execution_count": 112,
   "metadata": {},
   "outputs": [],
   "source": [
    "#list of text documents, changed the tweets df to list\n",
    "t2 = tweets_df2.values.tolist()"
   ]
  },
  {
   "cell_type": "code",
   "execution_count": 114,
   "metadata": {},
   "outputs": [
    {
     "name": "stdout",
     "output_type": "stream",
     "text": [
      "[\"@Slate Conservative media: Yes, Trump's response to Charlottesville was bad, but what about Obama? https://t.co/jjINXL5Qp0 via @slate\"]\n"
     ]
    }
   ],
   "source": [
    "print(t2[1])"
   ]
  },
  {
   "cell_type": "code",
   "execution_count": 115,
   "metadata": {},
   "outputs": [],
   "source": [
    "#create the transform, encode the words as a vector\n",
    "vectorizer = CountVectorizer()"
   ]
  },
  {
   "cell_type": "code",
   "execution_count": 117,
   "metadata": {},
   "outputs": [
    {
     "data": {
      "text/plain": [
       "CountVectorizer(analyzer='word', binary=False, decode_error='strict',\n",
       "                dtype=<class 'numpy.int64'>, encoding='utf-8', input='content',\n",
       "                lowercase=True, max_df=1.0, max_features=None, min_df=1,\n",
       "                ngram_range=(1, 1), preprocessor=None, stop_words=None,\n",
       "                strip_accents=None, token_pattern='(?u)\\\\b\\\\w\\\\w+\\\\b',\n",
       "                tokenizer=None, vocabulary=None)"
      ]
     },
     "execution_count": 117,
     "metadata": {},
     "output_type": "execute_result"
    }
   ],
   "source": [
    "#tokenize and build vocab\n",
    "vectorizer.fit(t2[1])"
   ]
  },
  {
   "cell_type": "code",
   "execution_count": 118,
   "metadata": {},
   "outputs": [
    {
     "name": "stdout",
     "output_type": "stream",
     "text": [
      "{'slate': 11, 'conservative': 5, 'media': 8, 'yes': 17, 'trump': 13, 'response': 10, 'to': 12, 'charlottesville': 3, 'was': 15, 'bad': 1, 'but': 2, 'what': 16, 'about': 0, 'obama': 9, 'https': 6, 'co': 4, 'jjinxl5qp0': 7, 'via': 14}\n"
     ]
    }
   ],
   "source": [
    "#summarize\n",
    "print(vectorizer.vocabulary_)"
   ]
  },
  {
   "cell_type": "code",
   "execution_count": 120,
   "metadata": {},
   "outputs": [],
   "source": [
    "#encode document\n",
    "vector = vectorizer.transform(t2[1]) #always getting error for whole list, selecting 1 works"
   ]
  },
  {
   "cell_type": "code",
   "execution_count": 121,
   "metadata": {},
   "outputs": [
    {
     "name": "stdout",
     "output_type": "stream",
     "text": [
      "(1, 18)\n",
      "<class 'scipy.sparse.csr.csr_matrix'>\n",
      "[[1 1 1 1 1 1 1 1 1 1 1 2 1 1 1 1 1 1]]\n"
     ]
    }
   ],
   "source": [
    "#summarize encoded vector\n",
    "print(vector.shape)\n",
    "print(type(vector))\n",
    "print(vector.toarray())"
   ]
  }
 ],
 "metadata": {
  "kernelspec": {
   "display_name": "Python 3",
   "language": "python",
   "name": "python3"
  },
  "language_info": {
   "codemirror_mode": {
    "name": "ipython",
    "version": 3
   },
   "file_extension": ".py",
   "mimetype": "text/x-python",
   "name": "python",
   "nbconvert_exporter": "python",
   "pygments_lexer": "ipython3",
   "version": "3.7.4"
  }
 },
 "nbformat": 4,
 "nbformat_minor": 2
}
